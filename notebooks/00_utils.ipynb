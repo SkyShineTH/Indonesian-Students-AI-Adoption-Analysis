{
 "cells": [
  {
   "cell_type": "code",
   "execution_count": 1,
   "id": "6026360e",
   "metadata": {},
   "outputs": [],
   "source": [
    "import sys\n",
    "import os\n",
    "import pandas as pd\n",
    "sys.path.append(os.path.abspath(os.path.join('..', 'src')))"
   ]
  },
  {
   "cell_type": "code",
   "execution_count": 2,
   "id": "7fa3e35c",
   "metadata": {},
   "outputs": [],
   "source": [
    "from utils.preprocessing import preprocess_data, clean_for_clustering\n",
    "from analysis.clustering import elbow_method, silhouette_scan, fit_kmeans, cluster_profile, save_cluster_profile\n",
    "from analysis.statistical_modeling import run_anova, run_tukey, run_ols\n",
    "from visualization.plots import plot_distribution, plot_crosstab_heatmap, plot_correlation"
   ]
  },
  {
   "cell_type": "code",
   "execution_count": 3,
   "id": "91514870",
   "metadata": {},
   "outputs": [],
   "source": [
    "df = preprocess_data(\"../data/raw/Dataset of AI Adoption Usage among Students in Indonesia Higher Education.xlsx\", \"../data/processed/clean_dataset_pipeline.csv\")"
   ]
  },
  {
   "cell_type": "code",
   "execution_count": 4,
   "id": "ce01c8a7",
   "metadata": {},
   "outputs": [
    {
     "name": "stdout",
     "output_type": "stream",
     "text": [
      "   k  silhouette\n",
      "0  2    0.307700\n",
      "1  3    0.296609\n",
      "2  4    0.278916\n",
      "3  5    0.268974\n",
      "4  6    0.235206\n"
     ]
    },
    {
     "data": {
      "text/plain": [
       "'../reports\\\\tables\\\\cluster_profile_k2.csv'"
      ]
     },
     "execution_count": 4,
     "metadata": {},
     "output_type": "execute_result"
    }
   ],
   "source": [
    "X = clean_for_clustering(df, use_scaled=True).values\n",
    "elbow_df = elbow_method(X, k_min=2, k_max=8, fig_name=\"elbow_composites\", reports_base=\"../reports\")\n",
    "print(silhouette_scan(X, 2, 6))\n",
    "\n",
    "km, labels = fit_kmeans(X, k=2)\n",
    "profile = cluster_profile(df, labels)\n",
    "save_cluster_profile(profile, name=\"cluster_profile_k2\", reports_base=\"../reports\")"
   ]
  },
  {
   "cell_type": "code",
   "execution_count": 5,
   "id": "eb7bc0b2",
   "metadata": {},
   "outputs": [],
   "source": [
    "# ANOVA: PE_Score ~ Gender\n",
    "res_anova = run_anova(df, \"PE_Score ~ C(Gender_Label)\", name=\"anova_pe_gender\", reports_base=\"../reports\")\n",
    "# Tukey\n",
    "res_tukey = run_tukey(df, dv=\"PE_Score\", group=\"Gender_Label\", name=\"tukey_pe_gender\", reports_base=\"../reports\")\n",
    "# OLS regression\n",
    "res_ols = run_ols(df, \"AUP_Score ~ PE_Score + CU_Score + ATU_Score\", name=\"ols_aup\", reports_base=\"../reports\")"
   ]
  },
  {
   "cell_type": "code",
   "execution_count": 6,
   "id": "a8c3b807",
   "metadata": {},
   "outputs": [
    {
     "data": {
      "text/plain": [
       "'../reports\\\\figures\\\\corr_composites.png'"
      ]
     },
     "execution_count": 6,
     "metadata": {},
     "output_type": "execute_result"
    }
   ],
   "source": [
    "plot_distribution(df, \"AI_Label\", title=\"AI Tools Used\", name=\"ai_tools_used\", reports_base=\"../reports\")\n",
    "plot_crosstab_heatmap(df, \"Gender_Label\", \"AI_Label\", name=\"gender_vs_ai\", reports_base=\"../reports\")\n",
    "plot_correlation(df, [\"PE_Score\",\"CU_Score\",\"ATU_Score\",\"AUP_Score\",\"MIUA_Score\"], name=\"corr_composites\", reports_base=\"../reports\")"
   ]
  }
 ],
 "metadata": {
  "kernelspec": {
   "display_name": "venv",
   "language": "python",
   "name": "python3"
  },
  "language_info": {
   "codemirror_mode": {
    "name": "ipython",
    "version": 3
   },
   "file_extension": ".py",
   "mimetype": "text/x-python",
   "name": "python",
   "nbconvert_exporter": "python",
   "pygments_lexer": "ipython3",
   "version": "3.11.0"
  }
 },
 "nbformat": 4,
 "nbformat_minor": 5
}
