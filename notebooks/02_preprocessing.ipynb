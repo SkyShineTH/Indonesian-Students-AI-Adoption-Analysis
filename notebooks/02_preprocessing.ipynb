{
 "cells": [
  {
   "cell_type": "code",
   "execution_count": 98,
   "id": "95d45090",
   "metadata": {},
   "outputs": [],
   "source": [
    "import pandas as pd\n",
    "import numpy as np\n",
    "from sklearn.preprocessing import StandardScaler, LabelEncoder"
   ]
  },
  {
   "cell_type": "code",
   "execution_count": 99,
   "id": "4be7097b",
   "metadata": {},
   "outputs": [],
   "source": [
    "import sys\n",
    "import os\n",
    "sys.path.append(os.path.abspath(os.path.join('..', 'src')))"
   ]
  },
  {
   "cell_type": "code",
   "execution_count": 100,
   "id": "3d313aad",
   "metadata": {},
   "outputs": [],
   "source": [
    "data = pd.read_excel(\"../data/raw/Dataset of AI Adoption Usage among Students in Indonesia Higher Education.xlsx\")"
   ]
  },
  {
   "cell_type": "code",
   "execution_count": 101,
   "id": "49a02e97",
   "metadata": {},
   "outputs": [],
   "source": [
    "df = data[:535]"
   ]
  },
  {
   "cell_type": "code",
   "execution_count": 102,
   "id": "417c8b59",
   "metadata": {},
   "outputs": [
    {
     "name": "stdout",
     "output_type": "stream",
     "text": [
      "Respondent            0\n",
      "Gender                0\n",
      "University            0\n",
      "Level of Education    0\n",
      "Province              0\n",
      "Fields of Study       0\n",
      "Type of AI            0\n",
      "PE1                   0\n",
      "PE2                   0\n",
      "PE3                   0\n",
      "PE4                   0\n",
      "PE5                   0\n",
      "PE6                   0\n",
      "PE7                   0\n",
      "PE8                   1\n",
      "PE9                   1\n",
      "PE10                  1\n",
      "PE11                  2\n",
      "PE12                  1\n",
      "PE13                  1\n",
      "PE14                  1\n",
      "PE15                  1\n",
      "PE16                  1\n",
      "PE17                  2\n",
      "PE18                  2\n",
      "PE19                  4\n",
      "PE20                  2\n",
      "CU1                   1\n",
      "CU2                   1\n",
      "CU3                   1\n",
      "CU4                   2\n",
      "ATU1                  1\n",
      "ATU2                  2\n",
      "ATU3                  2\n",
      "ATU4                  2\n",
      "ATU5                  1\n",
      "AUP1                  1\n",
      "AUP2                  1\n",
      "AUP3                  1\n",
      "AUP4                  1\n",
      "AUP5                  1\n",
      "MIUA1                 1\n",
      "MIUA2                 1\n",
      "MIUA3                 1\n",
      "MIUA4                 1\n",
      "MIUA5                 1\n",
      "dtype: int64\n"
     ]
    }
   ],
   "source": [
    "print(df.isnull().sum())"
   ]
  },
  {
   "cell_type": "code",
   "execution_count": 103,
   "id": "92afdce6",
   "metadata": {},
   "outputs": [
    {
     "name": "stdout",
     "output_type": "stream",
     "text": [
      "0\n"
     ]
    }
   ],
   "source": [
    "print(df.duplicated().sum())"
   ]
  },
  {
   "cell_type": "code",
   "execution_count": 104,
   "id": "c1c0ca77",
   "metadata": {},
   "outputs": [
    {
     "name": "stdout",
     "output_type": "stream",
     "text": [
      "PE1 1.0 4.0\n",
      "PE2 1.0 4.0\n",
      "PE3 1.0 4.0\n",
      "PE4 1.0 4.0\n",
      "PE5 1.0 4.0\n",
      "PE6 1.0 4.0\n",
      "PE7 1.0 4.0\n",
      "PE8 1.0 4.0\n",
      "PE9 1.0 4.0\n",
      "PE10 1.0 4.0\n",
      "PE11 1.0 4.0\n",
      "PE12 1.0 4.0\n",
      "PE13 1.0 4.0\n",
      "PE14 1.0 4.0\n",
      "PE15 1.0 4.0\n",
      "PE16 1.0 4.0\n",
      "PE17 1.0 4.0\n",
      "PE18 1.0 4.0\n",
      "PE19 1.0 4.0\n",
      "PE20 1.0 4.0\n",
      "CU1 1.0 4.0\n",
      "CU2 1.0 4.0\n",
      "CU3 1.0 4.0\n",
      "CU4 1.0 4.0\n",
      "ATU1 1.0 4.0\n",
      "ATU2 1.0 4.0\n",
      "ATU3 1.0 5.0\n",
      "ATU4 1.0 4.0\n",
      "ATU5 1.0 5.0\n",
      "AUP1 1.0 4.0\n",
      "AUP2 1.0 4.0\n",
      "AUP3 1.0 4.0\n",
      "AUP4 1.0 4.0\n",
      "AUP5 1.0 4.0\n",
      "MIUA1 1.0 4.0\n",
      "MIUA2 1.0 4.0\n",
      "MIUA3 1.0 4.0\n",
      "MIUA4 1.0 4.0\n",
      "MIUA5 1.0 4.0\n"
     ]
    }
   ],
   "source": [
    "#check outliers \n",
    "scale_cols = [c for c in df.columns if c.startswith((\"PE\",\"CU\",\"ATU\",\"AUP\",\"MIUA\"))]\n",
    "for col in scale_cols:\n",
    "    print(col, df[col].min(), df[col].max())"
   ]
  },
  {
   "cell_type": "code",
   "execution_count": 105,
   "id": "52b3787c",
   "metadata": {},
   "outputs": [],
   "source": [
    "df = df.dropna()"
   ]
  },
  {
   "cell_type": "code",
   "execution_count": 106,
   "id": "7256a469",
   "metadata": {},
   "outputs": [],
   "source": [
    "from utils.mapping import gender_map, university_map, education_map, province_map, field_map, ai_map\n",
    "df[\"Gender_Label\"] = df[\"Gender\"].map(gender_map)\n",
    "df[\"University_Label\"] = df[\"University\"].map(university_map)\n",
    "df[\"Education_Label\"] = df[\"Level of Education\"].map(education_map)\n",
    "df[\"Province_Label\"] = df[\"Province\"].map(province_map)\n",
    "df[\"Field_Label\"] = df[\"Fields of Study\"].map(field_map)\n",
    "df[\"AI_Label\"] = df[\"Type of AI\"].map(ai_map)\n"
   ]
  },
  {
   "cell_type": "code",
   "execution_count": 107,
   "id": "732437e3",
   "metadata": {},
   "outputs": [],
   "source": [
    "df[\"PE_Score\"]   = df[[c for c in df.columns if c.startswith(\"PE\")]].mean(axis=1)\n",
    "df[\"CU_Score\"]   = df[[c for c in df.columns if c.startswith(\"CU\")]].mean(axis=1)\n",
    "df[\"ATU_Score\"]  = df[[c for c in df.columns if c.startswith(\"ATU\")]].mean(axis=1)\n",
    "df[\"AUP_Score\"]  = df[[c for c in df.columns if c.startswith(\"AUP\")]].mean(axis=1)\n",
    "df[\"MIUA_Score\"] = df[[c for c in df.columns if c.startswith(\"MIUA\")]].mean(axis=1)"
   ]
  },
  {
   "cell_type": "code",
   "execution_count": 108,
   "id": "71b6804d",
   "metadata": {},
   "outputs": [],
   "source": [
    "scaler = StandardScaler()\n",
    "df_scaled = scaler.fit_transform(df[[\"PE_Score\",\"CU_Score\",\"ATU_Score\",\"AUP_Score\",\"MIUA_Score\"]])\n",
    "\n",
    "scaled_df = pd.DataFrame(df_scaled, columns=[\"PE_S\",\"CU_S\",\"ATU_S\",\"AUP_S\",\"MIUA_S\"])\n",
    "df = pd.concat([df, scaled_df], axis=1)"
   ]
  },
  {
   "cell_type": "code",
   "execution_count": 109,
   "id": "aeb63149",
   "metadata": {},
   "outputs": [],
   "source": [
    "df.to_csv(\"../data/processed/clean_dataset.csv\", index=False)"
   ]
  }
 ],
 "metadata": {
  "kernelspec": {
   "display_name": "venv",
   "language": "python",
   "name": "python3"
  },
  "language_info": {
   "codemirror_mode": {
    "name": "ipython",
    "version": 3
   },
   "file_extension": ".py",
   "mimetype": "text/x-python",
   "name": "python",
   "nbconvert_exporter": "python",
   "pygments_lexer": "ipython3",
   "version": "3.11.0"
  }
 },
 "nbformat": 4,
 "nbformat_minor": 5
}
